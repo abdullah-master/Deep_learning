{
 "cells": [
  {
   "cell_type": "markdown",
   "id": "31ec5c48",
   "metadata": {},
   "source": [
    "## Case Study Report 1  \n",
    "\n",
    "---\n",
    "\n",
    "**Prepared By:** Abdullah Master  \n",
    "\n",
    "**PRN:** 22070521001  \n",
    " \n",
    "**Date:** 26 April 2025  \n",
    "\n",
    "---\n",
    "\n"
   ]
  },
  {
   "cell_type": "markdown",
   "id": "239f9535",
   "metadata": {},
   "source": [
    "## SCENARIO\n",
    "A startup is developing a mobile app that scans handwritten digits from receipts and recognizes them for automated expense logging. As a data scientist, you're tasked with building a deep learning model that can classify handwritten digits (0 to 9).\n",
    "You're given the MNIST dataset, which contains 70,000 grayscale images (28x28 pixels) of handwritten digits. Your job is to create a model that can predict the correct digit from an input image.\n"
   ]
  },
  {
   "cell_type": "markdown",
   "id": "76afde99",
   "metadata": {},
   "source": [
    "## Approach\n",
    "\n",
    "To solve this classification problem, a basic **feedforward neural network (Dense Neural Network)** is used. The MNIST dataset is simple and structured, making it ideal for dense layers. The images are first normalized and flattened before feeding them into the model.\n",
    "\n",
    "The model architecture includes:\n",
    "- An input layer to receive flattened 28x28 images.\n",
    "- One hidden layer with ReLU activation for learning non-linear patterns.\n",
    "- An output layer with 10 units (for digits 0-9) and softmax activation to produce class probabilities.\n",
    "\n",
    "This design balances simplicity with sufficient learning capability for the MNIST dataset.\n"
   ]
  },
  {
   "cell_type": "markdown",
   "id": "6f338f8e",
   "metadata": {},
   "source": [
    "## Dataset Overview\n",
    "The MNIST dataset contains:\n",
    "- **60,000 training images** and **10,000 testing images**.\n",
    "- Each image is a **28x28 grayscale** image of a handwritten digit.\n",
    "- Labels correspond to digits from 0 to 9.\n"
   ]
  },
  {
   "cell_type": "markdown",
   "id": "c550e915",
   "metadata": {},
   "source": [
    "## Model Architecture Overview\n",
    "The model is a **simple feedforward neural network** consisting of:\n",
    "- An input layer of 784 neurons (flattened 28x28 image)\n",
    "- One hidden dense layer with ReLU activation\n",
    "- One output dense layer with softmax activation (10 neurons for 10 digit classes)\n"
   ]
  },
  {
   "cell_type": "markdown",
   "id": "9152597a",
   "metadata": {},
   "source": [
    "| Hyperparameter | Value |\n",
    "|:---|:---|\n",
    "| Optimizer | Adam |\n",
    "| Loss Function | Categorical Crossentropy |\n",
    "| Epochs | 10 |\n",
    "| Batch Size | 32 |\n",
    "| Learning Rate | Default (adaptive) |\n",
    "\n",
    "---"
   ]
  },
  {
   "cell_type": "markdown",
   "id": "99177611",
   "metadata": {},
   "source": [
    "## Step 1: Import the Libraries\n",
    "\n",
    "We begin by importing the necessary libraries, such as TensorFlow, Keras, and NumPy."
   ]
  },
  {
   "cell_type": "code",
   "execution_count": 81,
   "id": "4dc59fb2",
   "metadata": {},
   "outputs": [],
   "source": [
    "# Import libraries\n",
    "import numpy as np\n",
    "import tensorflow as tf\n",
    "from tensorflow.keras.datasets import mnist\n",
    "from tensorflow.keras.models import Sequential\n",
    "from tensorflow.keras.layers import Dense, Dropout, BatchNormalization\n",
    "from tensorflow.keras.utils import to_categorical\n",
    "import matplotlib.pyplot as plt\n",
    "import random"
   ]
  },
  {
   "cell_type": "markdown",
   "id": "45893691",
   "metadata": {},
   "source": [
    "## Step 2: Load and Preprocess the MNIST Dataset\n",
    "\n",
    "Load the MNIST dataset directly from TensorFlow datasets. The data is divided into training and testing sets."
   ]
  },
  {
   "cell_type": "code",
   "execution_count": 82,
   "id": "8cafe3cc",
   "metadata": {},
   "outputs": [
    {
     "name": "stdout",
     "output_type": "stream",
     "text": [
      "Training data shape: (60000, 28, 28)\n",
      "Test data shape: (10000, 28, 28)\n"
     ]
    }
   ],
   "source": [
    "# Load the MNIST dataset\n",
    "(X_train, y_train), (X_test, y_test) = mnist.load_data()\n",
    "print(\"Training data shape:\", X_train.shape)\n",
    "print(\"Test data shape:\", X_test.shape)"
   ]
  },
  {
   "cell_type": "code",
   "execution_count": 83,
   "id": "dc19b0cb",
   "metadata": {},
   "outputs": [
    {
     "data": {
      "image/png": "[encoded data removed]",
      "text/plain": [
       "<Figure size 1200x400 with 10 Axes>"
      ]
     },
     "metadata": {},
     "output_type": "display_data"
    }
   ],
   "source": [
    "# Visualize 10 random images from the training set\n",
    "random_indices = random.sample(range(X_train.shape[0]), 10)\n",
    "plt.figure(figsize=(12, 4))\n",
    "for i, idx in enumerate(random_indices):\n",
    "    image = X_train[idx]\n",
    "    label = y_train[idx]\n",
    "\n",
    "    plt.subplot(2, 5, i + 1)\n",
    "    plt.imshow(image, cmap='gray')\n",
    "    plt.title(f\"Label: {label}\")\n",
    "    plt.axis('off')\n",
    "\n",
    "plt.tight_layout()\n",
    "plt.show()"
   ]
  },
  {
   "cell_type": "markdown",
   "id": "e76789da",
   "metadata": {},
   "source": [
    "## Step 3: Normalize the Images\n",
    "\n",
    "The pixel values are normalized to the range [0, 1] by dividing by 255.0. Normalization helps the model train faster and achieve better performance."
   ]
  },
  {
   "cell_type": "code",
   "execution_count": 84,
   "id": "7f920bc5",
   "metadata": {},
   "outputs": [],
   "source": [
    "# Preprocessing\n",
    "X_train = X_train.astype('float32') / 255.0\n",
    "X_test = X_test.astype('float32') / 255.0"
   ]
  },
  {
   "cell_type": "markdown",
   "id": "17289c3b",
   "metadata": {},
   "source": [
    "## Step 4: Reshape Images (Flattening)\n",
    "\n",
    "Since dense layers expect 1D input, the 28x28 images are flattened into 784-dimensional vectors."
   ]
  },
  {
   "cell_type": "code",
   "execution_count": 85,
   "id": "c79ee61b",
   "metadata": {},
   "outputs": [],
   "source": [
    "X_train = X_train.reshape(-1, 28 * 28)\n",
    "X_test = X_test.reshape(-1, 28 * 28)"
   ]
  },
  {
   "cell_type": "markdown",
   "id": "cdff8605",
   "metadata": {},
   "source": [
    "## Step 5: One-hot Encode the Labels\n",
    "\n",
    "The labels (digits 0-9) are one-hot encoded to represent them in a categorical format suitable for multi-class classification."
   ]
  },
  {
   "cell_type": "code",
   "execution_count": 86,
   "id": "2260d760",
   "metadata": {},
   "outputs": [],
   "source": [
    "y_train = to_categorical(y_train, num_classes=10)\n",
    "y_test = to_categorical(y_test, num_classes=10)"
   ]
  },
  {
   "cell_type": "markdown",
   "id": "40cb3d29",
   "metadata": {},
   "source": [
    "## Step 6: Build the Feedforward Neural Network\n",
    "\n",
    "A simple sequential model is built:\n",
    "- A dense hidden layer with ReLU activation\n",
    "- An output dense layer with softmax activation"
   ]
  },
  {
   "cell_type": "code",
   "execution_count": 87,
   "id": "c23b6907",
   "metadata": {},
   "outputs": [],
   "source": [
    "# Build a better model\n",
    "model = Sequential([\n",
    "    Dense(256, activation='relu', input_shape=(784,)),\n",
    "    BatchNormalization(),\n",
    "    Dropout(0.3),\n",
    "    \n",
    "    Dense(128, activation='relu'),\n",
    "    BatchNormalization(),\n",
    "    Dropout(0.3),\n",
    "    \n",
    "    Dense(64, activation='relu'),\n",
    "    BatchNormalization(),\n",
    "    Dropout(0.3),\n",
    "    \n",
    "    Dense(10, activation='softmax')\n",
    "])"
   ]
  },
  {
   "cell_type": "code",
   "execution_count": 88,
   "id": "fcb1fd09",
   "metadata": {},
   "outputs": [
    {
     "name": "stdout",
     "output_type": "stream",
     "text": [
      "\n",
      "Model Architecture Summary:\n",
      "==================================================\n"
     ]
    },
    {
     "data": {
      "text/html": [
       "<pre style=\"white-space:pre;overflow-x:auto;line-height:normal;font-family:Menlo,'DejaVu Sans Mono',consolas,'Courier New',monospace\"><span style=\"font-weight: bold\">Model: \"sequential_8\"</span>\n",
       "</pre>\n"
      ],
      "text/plain": [
       "\u001b[1mModel: \"sequential_8\"\u001b[0m\n"
      ]
     },
     "metadata": {},
     "output_type": "display_data"
    },
    {
     "data": {
      "text/html": [
       "<pre style=\"white-space:pre;overflow-x:auto;line-height:normal;font-family:Menlo,'DejaVu Sans Mono',consolas,'Courier New',monospace\">┏━━━━━━━━━━━━━━━━━━━━━━━━━━━━━━━━━┳━━━━━━━━━━━━━━━━━━━━━━━━┳━━━━━━━━━━━━━━━┓\n",
       "┃<span style=\"font-weight: bold\"> Layer (type)                    </span>┃<span style=\"font-weight: bold\"> Output Shape           </span>┃<span style=\"font-weight: bold\">       Param # </span>┃\n",
       "┡━━━━━━━━━━━━━━━━━━━━━━━━━━━━━━━━━╇━━━━━━━━━━━━━━━━━━━━━━━━╇━━━━━━━━━━━━━━━┩\n",
       "│ dense_32 (<span style=\"color: #0087ff; text-decoration-color: #0087ff\">Dense</span>)                │ (<span style=\"color: #00d7ff; text-decoration-color: #00d7ff\">None</span>, <span style=\"color: #00af00; text-decoration-color: #00af00\">256</span>)            │       <span style=\"color: #00af00; text-decoration-color: #00af00\">200,960</span> │\n",
       "├─────────────────────────────────┼────────────────────────┼───────────────┤\n",
       "│ batch_normalization_24          │ (<span style=\"color: #00d7ff; text-decoration-color: #00d7ff\">None</span>, <span style=\"color: #00af00; text-decoration-color: #00af00\">256</span>)            │         <span style=\"color: #00af00; text-decoration-color: #00af00\">1,024</span> │\n",
       "│ (<span style=\"color: #0087ff; text-decoration-color: #0087ff\">BatchNormalization</span>)            │                        │               │\n",
       "├─────────────────────────────────┼────────────────────────┼───────────────┤\n",
       "│ dropout_24 (<span style=\"color: #0087ff; text-decoration-color: #0087ff\">Dropout</span>)            │ (<span style=\"color: #00d7ff; text-decoration-color: #00d7ff\">None</span>, <span style=\"color: #00af00; text-decoration-color: #00af00\">256</span>)            │             <span style=\"color: #00af00; text-decoration-color: #00af00\">0</span> │\n",
       "├─────────────────────────────────┼────────────────────────┼───────────────┤\n",
       "│ dense_33 (<span style=\"color: #0087ff; text-decoration-color: #0087ff\">Dense</span>)                │ (<span style=\"color: #00d7ff; text-decoration-color: #00d7ff\">None</span>, <span style=\"color: #00af00; text-decoration-color: #00af00\">128</span>)            │        <span style=\"color: #00af00; text-decoration-color: #00af00\">32,896</span> │\n",
       "├─────────────────────────────────┼────────────────────────┼───────────────┤\n",
       "│ batch_normalization_25          │ (<span style=\"color: #00d7ff; text-decoration-color: #00d7ff\">None</span>, <span style=\"color: #00af00; text-decoration-color: #00af00\">128</span>)            │           <span style=\"color: #00af00; text-decoration-color: #00af00\">512</span> │\n",
       "│ (<span style=\"color: #0087ff; text-decoration-color: #0087ff\">BatchNormalization</span>)            │                        │               │\n",
       "├─────────────────────────────────┼────────────────────────┼───────────────┤\n",
       "│ dropout_25 (<span style=\"color: #0087ff; text-decoration-color: #0087ff\">Dropout</span>)            │ (<span style=\"color: #00d7ff; text-decoration-color: #00d7ff\">None</span>, <span style=\"color: #00af00; text-decoration-color: #00af00\">128</span>)            │             <span style=\"color: #00af00; text-decoration-color: #00af00\">0</span> │\n",
       "├─────────────────────────────────┼────────────────────────┼───────────────┤\n",
       "│ dense_34 (<span style=\"color: #0087ff; text-decoration-color: #0087ff\">Dense</span>)                │ (<span style=\"color: #00d7ff; text-decoration-color: #00d7ff\">None</span>, <span style=\"color: #00af00; text-decoration-color: #00af00\">64</span>)             │         <span style=\"color: #00af00; text-decoration-color: #00af00\">8,256</span> │\n",
       "├─────────────────────────────────┼────────────────────────┼───────────────┤\n",
       "│ batch_normalization_26          │ (<span style=\"color: #00d7ff; text-decoration-color: #00d7ff\">None</span>, <span style=\"color: #00af00; text-decoration-color: #00af00\">64</span>)             │           <span style=\"color: #00af00; text-decoration-color: #00af00\">256</span> │\n",
       "│ (<span style=\"color: #0087ff; text-decoration-color: #0087ff\">BatchNormalization</span>)            │                        │               │\n",
       "├─────────────────────────────────┼────────────────────────┼───────────────┤\n",
       "│ dropout_26 (<span style=\"color: #0087ff; text-decoration-color: #0087ff\">Dropout</span>)            │ (<span style=\"color: #00d7ff; text-decoration-color: #00d7ff\">None</span>, <span style=\"color: #00af00; text-decoration-color: #00af00\">64</span>)             │             <span style=\"color: #00af00; text-decoration-color: #00af00\">0</span> │\n",
       "├─────────────────────────────────┼────────────────────────┼───────────────┤\n",
       "│ dense_35 (<span style=\"color: #0087ff; text-decoration-color: #0087ff\">Dense</span>)                │ (<span style=\"color: #00d7ff; text-decoration-color: #00d7ff\">None</span>, <span style=\"color: #00af00; text-decoration-color: #00af00\">10</span>)             │           <span style=\"color: #00af00; text-decoration-color: #00af00\">650</span> │\n",
       "└─────────────────────────────────┴────────────────────────┴───────────────┘\n",
       "</pre>\n"
      ],
      "text/plain": [
       "┏━━━━━━━━━━━━━━━━━━━━━━━━━━━━━━━━━┳━━━━━━━━━━━━━━━━━━━━━━━━┳━━━━━━━━━━━━━━━┓\n",
       "┃\u001b[1m \u001b[0m\u001b[1mLayer (type)                   \u001b[0m\u001b[1m \u001b[0m┃\u001b[1m \u001b[0m\u001b[1mOutput Shape          \u001b[0m\u001b[1m \u001b[0m┃\u001b[1m \u001b[0m\u001b[1m      Param #\u001b[0m\u001b[1m \u001b[0m┃\n",
       "┡━━━━━━━━━━━━━━━━━━━━━━━━━━━━━━━━━╇━━━━━━━━━━━━━━━━━━━━━━━━╇━━━━━━━━━━━━━━━┩\n",
       "│ dense_32 (\u001b[38;5;33mDense\u001b[0m)                │ (\u001b[38;5;45mNone\u001b[0m, \u001b[38;5;34m256\u001b[0m)            │       \u001b[38;5;34m200,960\u001b[0m │\n",
       "├─────────────────────────────────┼────────────────────────┼───────────────┤\n",
       "│ batch_normalization_24          │ (\u001b[38;5;45mNone\u001b[0m, \u001b[38;5;34m256\u001b[0m)            │         \u001b[38;5;34m1,024\u001b[0m │\n",
       "│ (\u001b[38;5;33mBatchNormalization\u001b[0m)            │                        │               │\n",
       "├─────────────────────────────────┼────────────────────────┼───────────────┤\n",
       "│ dropout_24 (\u001b[38;5;33mDropout\u001b[0m)            │ (\u001b[38;5;45mNone\u001b[0m, \u001b[38;5;34m256\u001b[0m)            │             \u001b[38;5;34m0\u001b[0m │\n",
       "├─────────────────────────────────┼────────────────────────┼───────────────┤\n",
       "│ dense_33 (\u001b[38;5;33mDense\u001b[0m)                │ (\u001b[38;5;45mNone\u001b[0m, \u001b[38;5;34m128\u001b[0m)            │        \u001b[38;5;34m32,896\u001b[0m │\n",
       "├─────────────────────────────────┼────────────────────────┼───────────────┤\n",
       "│ batch_normalization_25          │ (\u001b[38;5;45mNone\u001b[0m, \u001b[38;5;34m128\u001b[0m)            │           \u001b[38;5;34m512\u001b[0m │\n",
       "│ (\u001b[38;5;33mBatchNormalization\u001b[0m)            │                        │               │\n",
       "├─────────────────────────────────┼────────────────────────┼───────────────┤\n",
       "│ dropout_25 (\u001b[38;5;33mDropout\u001b[0m)            │ (\u001b[38;5;45mNone\u001b[0m, \u001b[38;5;34m128\u001b[0m)            │             \u001b[38;5;34m0\u001b[0m │\n",
       "├─────────────────────────────────┼────────────────────────┼───────────────┤\n",
       "│ dense_34 (\u001b[38;5;33mDense\u001b[0m)                │ (\u001b[38;5;45mNone\u001b[0m, \u001b[38;5;34m64\u001b[0m)             │         \u001b[38;5;34m8,256\u001b[0m │\n",
       "├─────────────────────────────────┼────────────────────────┼───────────────┤\n",
       "│ batch_normalization_26          │ (\u001b[38;5;45mNone\u001b[0m, \u001b[38;5;34m64\u001b[0m)             │           \u001b[38;5;34m256\u001b[0m │\n",
       "│ (\u001b[38;5;33mBatchNormalization\u001b[0m)            │                        │               │\n",
       "├─────────────────────────────────┼────────────────────────┼───────────────┤\n",
       "│ dropout_26 (\u001b[38;5;33mDropout\u001b[0m)            │ (\u001b[38;5;45mNone\u001b[0m, \u001b[38;5;34m64\u001b[0m)             │             \u001b[38;5;34m0\u001b[0m │\n",
       "├─────────────────────────────────┼────────────────────────┼───────────────┤\n",
       "│ dense_35 (\u001b[38;5;33mDense\u001b[0m)                │ (\u001b[38;5;45mNone\u001b[0m, \u001b[38;5;34m10\u001b[0m)             │           \u001b[38;5;34m650\u001b[0m │\n",
       "└─────────────────────────────────┴────────────────────────┴───────────────┘\n"
      ]
     },
     "metadata": {},
     "output_type": "display_data"
    },
    {
     "data": {
      "text/html": [
       "<pre style=\"white-space:pre;overflow-x:auto;line-height:normal;font-family:Menlo,'DejaVu Sans Mono',consolas,'Courier New',monospace\"><span style=\"font-weight: bold\"> Total params: </span><span style=\"color: #00af00; text-decoration-color: #00af00\">244,554</span> (955.29 KB)\n",
       "</pre>\n"
      ],
      "text/plain": [
       "\u001b[1m Total params: \u001b[0m\u001b[38;5;34m244,554\u001b[0m (955.29 KB)\n"
      ]
     },
     "metadata": {},
     "output_type": "display_data"
    },
    {
     "data": {
      "text/html": [
       "<pre style=\"white-space:pre;overflow-x:auto;line-height:normal;font-family:Menlo,'DejaVu Sans Mono',consolas,'Courier New',monospace\"><span style=\"font-weight: bold\"> Trainable params: </span><span style=\"color: #00af00; text-decoration-color: #00af00\">243,658</span> (951.79 KB)\n",
       "</pre>\n"
      ],
      "text/plain": [
       "\u001b[1m Trainable params: \u001b[0m\u001b[38;5;34m243,658\u001b[0m (951.79 KB)\n"
      ]
     },
     "metadata": {},
     "output_type": "display_data"
    },
    {
     "data": {
      "text/html": [
       "<pre style=\"white-space:pre;overflow-x:auto;line-height:normal;font-family:Menlo,'DejaVu Sans Mono',consolas,'Courier New',monospace\"><span style=\"font-weight: bold\"> Non-trainable params: </span><span style=\"color: #00af00; text-decoration-color: #00af00\">896</span> (3.50 KB)\n",
       "</pre>\n"
      ],
      "text/plain": [
       "\u001b[1m Non-trainable params: \u001b[0m\u001b[38;5;34m896\u001b[0m (3.50 KB)\n"
      ]
     },
     "metadata": {},
     "output_type": "display_data"
    },
    {
     "name": "stdout",
     "output_type": "stream",
     "text": [
      "\n",
      "Parameter Statistics:\n",
      "------------------------------\n",
      "Total Parameters: 244,554\n",
      "Trainable Parameters: 243,658\n",
      "Non-trainable Parameters: 896\n"
     ]
    }
   ],
   "source": [
    "# Display model architecture summary\n",
    "print('\\nModel Architecture Summary:')\n",
    "print('=' * 50)\n",
    "model.summary()\n",
    "\n",
    "# Calculate total parameters\n",
    "trainable_params = sum([np.prod(w.shape) for w in model.trainable_weights])\n",
    "non_trainable_params = sum([np.prod(w.shape) for w in model.non_trainable_weights])\n",
    "total_params = trainable_params + non_trainable_params\n",
    "\n",
    "print('\\nParameter Statistics:')\n",
    "print('-' * 30)\n",
    "print(f'Total Parameters: {total_params:,}')\n",
    "print(f'Trainable Parameters: {trainable_params:,}')\n",
    "print(f'Non-trainable Parameters: {non_trainable_params:,}')"
   ]
  },
  {
   "cell_type": "markdown",
   "id": "fa30cf25",
   "metadata": {},
   "source": [
    "## Step 7: Compile the Model\n",
    "\n",
    "The model is compiled using:\n",
    "- **Optimizer**: Adam (adaptive learning rate optimization)\n",
    "- **Loss function**: Categorical Crossentropy (for multi-class classification)\n",
    "- **Metric**: Accuracy"
   ]
  },
  {
   "cell_type": "code",
   "execution_count": 89,
   "id": "b902ca3f",
   "metadata": {},
   "outputs": [
    {
     "name": "stdout",
     "output_type": "stream",
     "text": [
      "313/313 - 0s - 2ms/step - accuracy: 0.1427 - loss: 2.3397\n",
      "\n",
      "Test accuracy: 0.1427\n"
     ]
    }
   ],
   "source": [
    "# Compile the model\n",
    "model.compile(optimizer='adam',\n",
    "              loss='categorical_crossentropy',\n",
    "              metrics=['accuracy'])\n",
    "\n",
    "test_loss, test_acc = model.evaluate(X_test, y_test, verbose=2)\n",
    "print(f\"\\nTest accuracy: {test_acc:.4f}\")"
   ]
  },
  {
   "cell_type": "markdown",
   "id": "6625add1",
   "metadata": {},
   "source": [
    "## Step 8: Train the Model\n",
    "\n",
    "The model is trained over several epochs using the training data. During training, the loss and accuracy metrics are monitored."
   ]
  },
  {
   "cell_type": "code",
   "execution_count": 90,
   "id": "331df2d0",
   "metadata": {},
   "outputs": [
    {
     "name": "stdout",
     "output_type": "stream",
     "text": [
      "Epoch 1/50\n",
      "844/844 - 4s - 4ms/step - accuracy: 0.8651 - loss: 0.4443 - val_accuracy: 0.9668 - val_loss: 0.1111\n",
      "Epoch 2/50\n",
      "844/844 - 2s - 3ms/step - accuracy: 0.9358 - loss: 0.2163 - val_accuracy: 0.9728 - val_loss: 0.0934\n",
      "Epoch 3/50\n",
      "844/844 - 2s - 3ms/step - accuracy: 0.9492 - loss: 0.1676 - val_accuracy: 0.9762 - val_loss: 0.0784\n",
      "Epoch 4/50\n",
      "844/844 - 3s - 3ms/step - accuracy: 0.9556 - loss: 0.1486 - val_accuracy: 0.9767 - val_loss: 0.0797\n",
      "Epoch 5/50\n",
      "844/844 - 3s - 3ms/step - accuracy: 0.9618 - loss: 0.1276 - val_accuracy: 0.9772 - val_loss: 0.0786\n",
      "Epoch 6/50\n",
      "844/844 - 2s - 3ms/step - accuracy: 0.9637 - loss: 0.1192 - val_accuracy: 0.9783 - val_loss: 0.0758\n",
      "Epoch 7/50\n",
      "844/844 - 2s - 3ms/step - accuracy: 0.9678 - loss: 0.1056 - val_accuracy: 0.9800 - val_loss: 0.0672\n",
      "Epoch 8/50\n",
      "844/844 - 2s - 3ms/step - accuracy: 0.9698 - loss: 0.0973 - val_accuracy: 0.9778 - val_loss: 0.0721\n",
      "Epoch 9/50\n",
      "844/844 - 2s - 3ms/step - accuracy: 0.9712 - loss: 0.0948 - val_accuracy: 0.9820 - val_loss: 0.0667\n",
      "Epoch 10/50\n",
      "844/844 - 2s - 3ms/step - accuracy: 0.9731 - loss: 0.0880 - val_accuracy: 0.9798 - val_loss: 0.0675\n",
      "Epoch 11/50\n",
      "844/844 - 2s - 2ms/step - accuracy: 0.9738 - loss: 0.0851 - val_accuracy: 0.9795 - val_loss: 0.0694\n",
      "Epoch 12/50\n",
      "844/844 - 2s - 2ms/step - accuracy: 0.9757 - loss: 0.0804 - val_accuracy: 0.9805 - val_loss: 0.0696\n",
      "Epoch 13/50\n",
      "844/844 - 2s - 2ms/step - accuracy: 0.9759 - loss: 0.0770 - val_accuracy: 0.9833 - val_loss: 0.0587\n",
      "Epoch 14/50\n",
      "844/844 - 2s - 2ms/step - accuracy: 0.9779 - loss: 0.0718 - val_accuracy: 0.9818 - val_loss: 0.0619\n",
      "Epoch 15/50\n",
      "844/844 - 2s - 2ms/step - accuracy: 0.9790 - loss: 0.0693 - val_accuracy: 0.9830 - val_loss: 0.0577\n",
      "Epoch 16/50\n",
      "844/844 - 2s - 2ms/step - accuracy: 0.9807 - loss: 0.0652 - val_accuracy: 0.9823 - val_loss: 0.0625\n",
      "Epoch 17/50\n",
      "844/844 - 2s - 3ms/step - accuracy: 0.9803 - loss: 0.0642 - val_accuracy: 0.9828 - val_loss: 0.0623\n",
      "Epoch 18/50\n",
      "844/844 - 2s - 2ms/step - accuracy: 0.9814 - loss: 0.0598 - val_accuracy: 0.9820 - val_loss: 0.0636\n",
      "Epoch 19/50\n",
      "844/844 - 2s - 3ms/step - accuracy: 0.9810 - loss: 0.0613 - val_accuracy: 0.9832 - val_loss: 0.0587\n",
      "Epoch 20/50\n",
      "844/844 - 2s - 3ms/step - accuracy: 0.9826 - loss: 0.0566 - val_accuracy: 0.9840 - val_loss: 0.0591\n",
      "Epoch 21/50\n",
      "844/844 - 2s - 3ms/step - accuracy: 0.9825 - loss: 0.0579 - val_accuracy: 0.9840 - val_loss: 0.0622\n",
      "Epoch 22/50\n",
      "844/844 - 2s - 3ms/step - accuracy: 0.9840 - loss: 0.0524 - val_accuracy: 0.9843 - val_loss: 0.0636\n",
      "Epoch 23/50\n",
      "844/844 - 2s - 2ms/step - accuracy: 0.9836 - loss: 0.0514 - val_accuracy: 0.9838 - val_loss: 0.0670\n",
      "Epoch 24/50\n",
      "844/844 - 2s - 2ms/step - accuracy: 0.9830 - loss: 0.0535 - val_accuracy: 0.9857 - val_loss: 0.0574\n",
      "Epoch 25/50\n",
      "844/844 - 2s - 2ms/step - accuracy: 0.9847 - loss: 0.0494 - val_accuracy: 0.9843 - val_loss: 0.0629\n",
      "Epoch 26/50\n",
      "844/844 - 2s - 2ms/step - accuracy: 0.9853 - loss: 0.0483 - val_accuracy: 0.9840 - val_loss: 0.0629\n",
      "Epoch 27/50\n",
      "844/844 - 2s - 3ms/step - accuracy: 0.9850 - loss: 0.0482 - val_accuracy: 0.9852 - val_loss: 0.0574\n",
      "Epoch 28/50\n",
      "844/844 - 2s - 2ms/step - accuracy: 0.9862 - loss: 0.0454 - val_accuracy: 0.9845 - val_loss: 0.0609\n",
      "Epoch 29/50\n",
      "844/844 - 2s - 2ms/step - accuracy: 0.9865 - loss: 0.0441 - val_accuracy: 0.9835 - val_loss: 0.0638\n",
      "Epoch 30/50\n",
      "844/844 - 2s - 2ms/step - accuracy: 0.9865 - loss: 0.0438 - val_accuracy: 0.9850 - val_loss: 0.0591\n",
      "Epoch 31/50\n",
      "844/844 - 2s - 2ms/step - accuracy: 0.9870 - loss: 0.0413 - val_accuracy: 0.9832 - val_loss: 0.0633\n",
      "Epoch 32/50\n",
      "844/844 - 2s - 2ms/step - accuracy: 0.9865 - loss: 0.0437 - val_accuracy: 0.9850 - val_loss: 0.0565\n",
      "Epoch 33/50\n",
      "844/844 - 3s - 3ms/step - accuracy: 0.9867 - loss: 0.0419 - val_accuracy: 0.9853 - val_loss: 0.0582\n",
      "Epoch 34/50\n",
      "844/844 - 2s - 3ms/step - accuracy: 0.9869 - loss: 0.0410 - val_accuracy: 0.9850 - val_loss: 0.0577\n",
      "Epoch 35/50\n",
      "844/844 - 2s - 3ms/step - accuracy: 0.9872 - loss: 0.0404 - val_accuracy: 0.9847 - val_loss: 0.0587\n",
      "Epoch 36/50\n",
      "844/844 - 2s - 3ms/step - accuracy: 0.9876 - loss: 0.0389 - val_accuracy: 0.9843 - val_loss: 0.0586\n",
      "Epoch 37/50\n",
      "844/844 - 2s - 3ms/step - accuracy: 0.9884 - loss: 0.0364 - val_accuracy: 0.9850 - val_loss: 0.0591\n",
      "Epoch 38/50\n",
      "844/844 - 2s - 3ms/step - accuracy: 0.9879 - loss: 0.0373 - val_accuracy: 0.9847 - val_loss: 0.0595\n",
      "Epoch 39/50\n",
      "844/844 - 2s - 3ms/step - accuracy: 0.9881 - loss: 0.0373 - val_accuracy: 0.9833 - val_loss: 0.0659\n",
      "Epoch 40/50\n",
      "844/844 - 2s - 3ms/step - accuracy: 0.9889 - loss: 0.0364 - val_accuracy: 0.9847 - val_loss: 0.0618\n",
      "Epoch 41/50\n",
      "844/844 - 2s - 2ms/step - accuracy: 0.9892 - loss: 0.0350 - val_accuracy: 0.9845 - val_loss: 0.0637\n",
      "Epoch 42/50\n",
      "844/844 - 2s - 3ms/step - accuracy: 0.9898 - loss: 0.0328 - val_accuracy: 0.9845 - val_loss: 0.0683\n",
      "Epoch 43/50\n",
      "844/844 - 2s - 2ms/step - accuracy: 0.9894 - loss: 0.0342 - val_accuracy: 0.9857 - val_loss: 0.0604\n",
      "Epoch 44/50\n",
      "844/844 - 2s - 2ms/step - accuracy: 0.9896 - loss: 0.0329 - val_accuracy: 0.9843 - val_loss: 0.0615\n",
      "Epoch 45/50\n",
      "844/844 - 2s - 2ms/step - accuracy: 0.9893 - loss: 0.0331 - val_accuracy: 0.9860 - val_loss: 0.0622\n",
      "Epoch 46/50\n",
      "844/844 - 2s - 3ms/step - accuracy: 0.9895 - loss: 0.0325 - val_accuracy: 0.9847 - val_loss: 0.0602\n",
      "Epoch 47/50\n",
      "844/844 - 2s - 2ms/step - accuracy: 0.9901 - loss: 0.0323 - val_accuracy: 0.9855 - val_loss: 0.0606\n",
      "Epoch 48/50\n",
      "844/844 - 2s - 2ms/step - accuracy: 0.9900 - loss: 0.0328 - val_accuracy: 0.9858 - val_loss: 0.0612\n",
      "Epoch 49/50\n",
      "844/844 - 2s - 3ms/step - accuracy: 0.9910 - loss: 0.0289 - val_accuracy: 0.9875 - val_loss: 0.0577\n",
      "Epoch 50/50\n",
      "844/844 - 2s - 3ms/step - accuracy: 0.9904 - loss: 0.0316 - val_accuracy: 0.9875 - val_loss: 0.0512\n"
     ]
    }
   ],
   "source": [
    "\n",
    "# Train the model\n",
    "history = model.fit(X_train, y_train,\n",
    "                    epochs=50,           # Increased epochs\n",
    "                    batch_size=64,       # More stable batch size\n",
    "                    validation_split=0.1,\n",
    "                    verbose=2)"
   ]
  },
  {
   "cell_type": "code",
   "execution_count": 91,
   "id": "a9b7abaa",
   "metadata": {},
   "outputs": [
    {
     "data": {
      "image/png": "[encoded data removed]",
      "text/plain": [
       "<Figure size 1200x500 with 2 Axes>"
      ]
     },
     "metadata": {},
     "output_type": "display_data"
    }
   ],
   "source": [
    "# Plot accuracy and loss\n",
    "plt.figure(figsize=(12, 5))\n",
    "\n",
    "plt.subplot(1, 2, 1)\n",
    "plt.plot(history.history['accuracy'], label='Train Accuracy')\n",
    "plt.plot(history.history['val_accuracy'], label='Validation Accuracy')\n",
    "plt.title('Accuracy Over Epochs')\n",
    "plt.xlabel('Epoch')\n",
    "plt.ylabel('Accuracy')\n",
    "plt.legend()\n",
    "\n",
    "plt.subplot(1, 2, 2)\n",
    "plt.plot(history.history['loss'], label='Train Loss')\n",
    "plt.plot(history.history['val_loss'], label='Validation Loss')\n",
    "plt.title('Loss Over Epochs')\n",
    "plt.xlabel('Epoch')\n",
    "plt.ylabel('Loss')\n",
    "plt.legend()\n",
    "\n",
    "plt.tight_layout()\n",
    "plt.show()"
   ]
  },
  {
   "cell_type": "markdown",
   "id": "e28c9cb8",
   "metadata": {},
   "source": [
    "## Step 9: Evaluate the Model\n",
    "\n",
    "After training, the model is evaluated on the unseen test data to measure its generalization performance."
   ]
  },
  {
   "cell_type": "code",
   "execution_count": 92,
   "id": "5fffc767",
   "metadata": {},
   "outputs": [
    {
     "name": "stdout",
     "output_type": "stream",
     "text": [
      "313/313 - 0s - 1ms/step - accuracy: 0.9867 - loss: 0.0487\n",
      "\n",
      "Test Accuracy: 0.9867\n",
      "\u001b[1m1/1\u001b[0m \u001b[32m━━━━━━━━━━━━━━━━━━━━\u001b[0m\u001b[37m\u001b[0m \u001b[1m0s\u001b[0m 76ms/step\n"
     ]
    },
    {
     "data": {
      "image/png": "[encoded data removed]",
      "text/plain": [
       "<Figure size 640x480 with 1 Axes>"
      ]
     },
     "metadata": {},
     "output_type": "display_data"
    }
   ],
   "source": [
    "# Evaluate on test set\n",
    "test_loss, test_accuracy = model.evaluate(X_test, y_test, verbose=2)\n",
    "print(f\"\\nTest Accuracy: {test_accuracy:.4f}\")\n",
    "\n",
    "# Predict a random image from the test set\n",
    "index = random.randint(0, X_test.shape[0] - 1)\n",
    "image = X_test[index]\n",
    "true_label = np.argmax(y_test[index])\n",
    "\n",
    "image_reshaped = image.reshape(1, 784)\n",
    "\n",
    "predicted_probs = model.predict(image_reshaped)\n",
    "predicted_label = np.argmax(predicted_probs)\n",
    "\n",
    "plt.imshow(image.reshape(28, 28), cmap='gray')\n",
    "plt.title(f\"Predicted: {predicted_label}, True: {true_label}\")\n",
    "plt.axis('off')\n",
    "plt.show()\n"
   ]
  },
  {
   "cell_type": "markdown",
   "id": "f4e4e568",
   "metadata": {},
   "source": [
    "## How to Improve the Model\n",
    "\n",
    "To achieve even better accuracy, the following strategies can be considered:\n",
    "- **Add more layers**: Introducing additional dense layers to learn more complex patterns.\n",
    "- **Increase neurons**: Using a larger number of neurons in hidden layers.\n",
    "- **Use Convolutional Neural Networks (CNNs)**: CNNs are more suitable for image data compared to simple dense networks.\n",
    "- **Data Augmentation**: Artificially expanding the dataset by rotating, scaling, and flipping images.\n",
    "- **Regularization Techniques**: Adding dropout layers to prevent overfitting.\n",
    "- **Hyperparameter Tuning**: Adjusting learning rate, batch size, and number of epochs.\n",
    "\n",
    "These strategies would likely improve the model's robustness and overall accuracy.\n"
   ]
  },
  {
   "cell_type": "markdown",
   "id": "bca7415d",
   "metadata": {},
   "source": [
    "## Conclusion\n",
    "\n",
    "A basic feedforward neural network was successfully built to classify handwritten digits using the MNIST dataset. The model achieved reasonable accuracy by following simple preprocessing and training steps.\n",
    "\n",
    "Although this basic model performs decently, further improvements using CNNs and data augmentation techniques can lead to much higher accuracy suitable for real-world mobile app deployment.\n",
    "\n",
    "This case study demonstrates the end-to-end development of a deep learning classification system, including preprocessing, modeling, training, evaluation, and improvement considerations.\n"
   ]
  }
 ],
 "metadata": {
  "kernelspec": {
   "display_name": "Python 3",
   "language": "python",
   "name": "python3"
  },
  "language_info": {
   "codemirror_mode": {
    "name": "ipython",
    "version": 3
   },
   "file_extension": ".py",
   "mimetype": "text/x-python",
   "name": "python",
   "nbconvert_exporter": "python",
   "pygments_lexer": "ipython3",
   "version": "3.12.6"
  }
 },
 "nbformat": 4,
 "nbformat_minor": 5
}
